{
  "nbformat": 4,
  "nbformat_minor": 0,
  "metadata": {
    "colab": {
      "provenance": [],
      "authorship_tag": "ABX9TyP2rtpeKcbjqAV0TRgarRcZ",
      "include_colab_link": true
    },
    "kernelspec": {
      "name": "python3",
      "display_name": "Python 3"
    },
    "language_info": {
      "name": "python"
    }
  },
  "cells": [
    {
      "cell_type": "markdown",
      "metadata": {
        "id": "view-in-github",
        "colab_type": "text"
      },
      "source": [
        "<a href=\"https://colab.research.google.com/github/Azwraithz/data-science/blob/main/Numpy_W3S.ipynb\" target=\"_parent\"><img src=\"https://colab.research.google.com/assets/colab-badge.svg\" alt=\"Open In Colab\"/></a>"
      ]
    },
    {
      "cell_type": "markdown",
      "source": [
        "# Python > NumPy\n",
        "\n",
        "Importación de Librerias:\n",
        "\n",
        "NumPy: import numpy\n"
      ],
      "metadata": {
        "id": "1ERDLRb3dEUh"
      }
    },
    {
      "cell_type": "code",
      "execution_count": 3,
      "metadata": {
        "id": "uvQgrPg9Ut4L"
      },
      "outputs": [],
      "source": [
        "# Importación de libreria con un alias.\n",
        "import numpy as np"
      ]
    },
    {
      "cell_type": "code",
      "source": [
        "# Imprimier la versión utilizada de NumPy\n",
        "print(np.__version__)"
      ],
      "metadata": {
        "id": "xk9B2aAEfpZM"
      },
      "execution_count": null,
      "outputs": []
    }
  ]
}
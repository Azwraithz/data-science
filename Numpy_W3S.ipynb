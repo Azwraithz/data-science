{
  "nbformat": 4,
  "nbformat_minor": 0,
  "metadata": {
    "colab": {
      "provenance": [],
      "authorship_tag": "ABX9TyPjRr+DeHriTghdhooL6vhu",
      "include_colab_link": true
    },
    "kernelspec": {
      "name": "python3",
      "display_name": "Python 3"
    },
    "language_info": {
      "name": "python"
    }
  },
  "cells": [
    {
      "cell_type": "markdown",
      "metadata": {
        "id": "view-in-github",
        "colab_type": "text"
      },
      "source": [
        "<a href=\"https://colab.research.google.com/github/Azwraithz/data-science/blob/main/Numpy_W3S.ipynb\" target=\"_parent\"><img src=\"https://colab.research.google.com/assets/colab-badge.svg\" alt=\"Open In Colab\"/></a>"
      ]
    },
    {
      "cell_type": "markdown",
      "source": [
        "# Python > NumPy\n",
        "\n",
        "Importación de Librerias:\n",
        "\n",
        "NumPy: import numpy\n"
      ],
      "metadata": {
        "id": "1ERDLRb3dEUh"
      }
    },
    {
      "cell_type": "code",
      "execution_count": 3,
      "metadata": {
        "id": "uvQgrPg9Ut4L"
      },
      "outputs": [],
      "source": [
        "# Importación de libreria con un alias.\n",
        "import numpy as np"
      ]
    },
    {
      "cell_type": "code",
      "source": [
        "# Imprime la versión utilizada de NumPy\n",
        "print(np.__version__)"
      ],
      "metadata": {
        "id": "xk9B2aAEfpZM"
      },
      "execution_count": null,
      "outputs": []
    },
    {
      "cell_type": "markdown",
      "source": [
        "Numpy trabaja con arreglos/arrays, tuplas u objetos."
      ],
      "metadata": {
        "id": "40i1SHzwiK5I"
      }
    },
    {
      "cell_type": "code",
      "source": [
        "# Declaración e inicialización del array como una lista\n",
        "arr = np.array([1, 2, 3, 4, 5])\n",
        "\n",
        "# Imprime el contenido del array\n",
        "print(arr)\n",
        "\n",
        "#Imprime el tipo de dato del array\n",
        "print(type(arr))"
      ],
      "metadata": {
        "id": "UQGqQMOoiP_f"
      },
      "execution_count": null,
      "outputs": []
    },
    {
      "cell_type": "code",
      "source": [
        "# Declaración e inicialización del array como una tupla\n",
        "arr = np.array((1, 2, 3, 4, 5))\n",
        "\n",
        "# Imprime el contenido del array\n",
        "print(arr)"
      ],
      "metadata": {
        "id": "P8weozK-jTN4"
      },
      "execution_count": null,
      "outputs": []
    },
    {
      "cell_type": "markdown",
      "source": [
        "Dimensiones de arreglos"
      ],
      "metadata": {
        "id": "jPjLQb6mlerC"
      }
    },
    {
      "cell_type": "code",
      "source": [
        "# Dimensión 0-D\n",
        "arr = np.array(42)\n",
        "\n",
        "# Imprime el contenido del array\n",
        "print(arr)\n",
        "\n",
        "# Dimensión 1-D\n",
        "arr = np.array([1, 2, 3, 4, 5])"
      ],
      "metadata": {
        "colab": {
          "base_uri": "https://localhost:8080/"
        },
        "id": "FZaz55wElgcy",
        "outputId": "ed2ea810-1821-499f-b0b1-089c4644cb15"
      },
      "execution_count": 10,
      "outputs": [
        {
          "output_type": "stream",
          "name": "stdout",
          "text": [
            "42\n"
          ]
        }
      ]
    }
  ]
}